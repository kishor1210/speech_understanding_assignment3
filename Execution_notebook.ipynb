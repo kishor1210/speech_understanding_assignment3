{
  "cells": [
    {
      "cell_type": "code",
      "execution_count": 2,
      "metadata": {
        "colab": {
          "base_uri": "https://localhost:8080/"
        },
        "id": "jAJQ930QxpWk",
        "outputId": "8b23df82-bad0-4e00-d002-501707dbca4a"
      },
      "outputs": [
        {
          "output_type": "stream",
          "name": "stdout",
          "text": [
            "/content/drive/MyDrive/ASSIGNMENT3_speech/SSL_Anti-spoofing\n"
          ]
        }
      ],
      "source": [
        "cd /content/drive/MyDrive/ASSIGNMENT3_speech/"
      ]
    },
    {
      "cell_type": "code",
      "source": [
        "!git clone https://github.com/TakHemlata/SSL_Anti-spoofing.git"
      ],
      "metadata": {
        "colab": {
          "base_uri": "https://localhost:8080/"
        },
        "id": "NIBfO0knJCzM",
        "outputId": "54c7ad58-0c35-4d72-b7b9-872d33355f7d"
      },
      "execution_count": 13,
      "outputs": [
        {
          "output_type": "stream",
          "name": "stdout",
          "text": [
            "Cloning into 'SSL_Anti-spoofing'...\n",
            "remote: Enumerating objects: 1579, done.\u001b[K\n",
            "remote: Counting objects: 100% (90/90), done.\u001b[K\n",
            "remote: Compressing objects: 100% (42/42), done.\u001b[K\n",
            "remote: Total 1579 (delta 52), reused 82 (delta 48), pack-reused 1489\u001b[K\n",
            "Receiving objects: 100% (1579/1579), 30.57 MiB | 10.51 MiB/s, done.\n",
            "Resolving deltas: 100% (293/293), done.\n",
            "Updating files: 100% (1247/1247), done.\n"
          ]
        }
      ]
    },
    {
      "cell_type": "code",
      "source": [
        "# Add NVIDIA package repositories\n",
        "#!wget https://developer.download.nvidia.com/compute/cuda/repos/ubuntu2004/x86_64/cuda-ubuntu2004.pin\n",
        "#!sudo mv cuda-ubuntu2004.pin /etc/apt/preferences.d/cuda-repository-pin-600\n",
        "#!wget https://developer.download.nvidia.com/compute/cuda/repos/ubuntu2004/x86_64/cuda-repo-ubuntu2004_11.4.2-1_amd64.deb\n",
        "#!sudo dpkg -i cuda-repo-ubuntu2004_11.4.2-1_amd64.deb\n",
        "!sudo apt-key adv --fetch-keys https://developer.download.nvidia.com/compute/cuda/repos/ubuntu2004/x86_64/7fa2af80.pub\n",
        "!sudo apt-get update\n",
        "\n",
        "\n",
        "\n",
        "# Verify installation\n",
        "#!nvcc --version\n",
        "\n",
        "# Install cuDNN (optional but recommended)\n",
        "# You need to download cuDNN from the NVIDIA website and follow the installation instructions.\n"
      ],
      "metadata": {
        "colab": {
          "base_uri": "https://localhost:8080/"
        },
        "id": "NJBEGIsFk9oC",
        "outputId": "447c1e9a-d29b-4a1c-d131-85792e787e3e"
      },
      "execution_count": 11,
      "outputs": [
        {
          "output_type": "stream",
          "name": "stdout",
          "text": [
            "Warning: apt-key is deprecated. Manage keyring files in trusted.gpg.d instead (see apt-key(8)).\n",
            "Executing: /tmp/apt-key-gpghome.kvgxEnMfpp/gpg.1.sh --fetch-keys https://developer.download.nvidia.com/compute/cuda/repos/ubuntu2004/x86_64/7fa2af80.pub\n",
            "gpg: requesting key from 'https://developer.download.nvidia.com/compute/cuda/repos/ubuntu2004/x86_64/7fa2af80.pub'\n",
            "gpg: key F60F4B3D7FA2AF80: \"cudatools <cudatools@nvidia.com>\" not changed\n",
            "gpg: Total number processed: 1\n",
            "gpg:              unchanged: 1\n",
            "Hit:1 https://cloud.r-project.org/bin/linux/ubuntu jammy-cran40/ InRelease\n",
            "Hit:2 https://developer.download.nvidia.com/compute/cuda/repos/ubuntu2204/x86_64  InRelease\n",
            "Hit:3 http://security.ubuntu.com/ubuntu jammy-security InRelease\n",
            "Hit:4 http://archive.ubuntu.com/ubuntu jammy InRelease\n",
            "Hit:5 http://archive.ubuntu.com/ubuntu jammy-updates InRelease\n",
            "Hit:6 http://archive.ubuntu.com/ubuntu jammy-backports InRelease\n",
            "Hit:7 https://ppa.launchpadcontent.net/c2d4u.team/c2d4u4.0+/ubuntu jammy InRelease\n",
            "Hit:8 https://ppa.launchpadcontent.net/deadsnakes/ppa/ubuntu jammy InRelease\n",
            "Hit:9 https://ppa.launchpadcontent.net/graphics-drivers/ppa/ubuntu jammy InRelease\n",
            "Hit:10 https://ppa.launchpadcontent.net/ubuntugis/ppa/ubuntu jammy InRelease\n",
            "Reading package lists... Done\n"
          ]
        }
      ]
    },
    {
      "cell_type": "code",
      "source": [
        "# Install CUDA Toolkit\n",
        "!sudo apt-get -y install cuda"
      ],
      "metadata": {
        "colab": {
          "base_uri": "https://localhost:8080/"
        },
        "id": "89eeybNID_KR",
        "outputId": "2dd6c53d-c3a8-48dc-cd79-3049d159bf1d"
      },
      "execution_count": 12,
      "outputs": [
        {
          "output_type": "stream",
          "name": "stdout",
          "text": [
            "E: Could not get lock /var/lib/dpkg/lock-frontend. It is held by process 5274 (apt-get)\n",
            "N: Be aware that removing the lock file is not a solution and may break your system.\n",
            "E: Unable to acquire the dpkg frontend lock (/var/lib/dpkg/lock-frontend), is another process using it?\n"
          ]
        }
      ]
    },
    {
      "cell_type": "code",
      "execution_count": 2,
      "metadata": {
        "id": "jAqtja6qz7c1"
      },
      "outputs": [],
      "source": [
        "# !wget https://developer.download.nvidia.com/compute/cuda/repos/ubuntu1804/x86_64/cuda-ubuntu1804.pin\n",
        "# !sudo mv cuda-ubuntu1804.pin /etc/apt/preferences.d/cuda-repository-pin-600\n",
        "# !wget https://developer.download.nvidia.com/compute/cuda/11.5.0/local_installers/cuda-repo-ubuntu1804-11-5-local_11.5.0-495.29.05-1_amd64.deb\n",
        "# !sudo dpkg -i cuda-repo-ubuntu1804-11-5-local_11.5.0-495.29.05-1_amd64.deb\n",
        "# !sudo apt-key add /var/cuda-repo-ubuntu1804-11-5-local/7fa2af80.pub\n",
        "# !sudo apt-get update\n",
        "# !sudo apt-get -y install cuda"
      ]
    },
    {
      "cell_type": "code",
      "source": [],
      "metadata": {
        "id": "GGpwos-8I_7E"
      },
      "execution_count": null,
      "outputs": []
    },
    {
      "cell_type": "code",
      "execution_count": 3,
      "metadata": {
        "colab": {
          "base_uri": "https://localhost:8080/"
        },
        "id": "NlzXezVi8yLw",
        "outputId": "bb8f300d-b81a-4976-c35c-ee15c65dc691"
      },
      "outputs": [
        {
          "output_type": "stream",
          "name": "stdout",
          "text": [
            "nvcc: NVIDIA (R) Cuda compiler driver\n",
            "Copyright (c) 2005-2023 NVIDIA Corporation\n",
            "Built on Tue_Aug_15_22:02:13_PDT_2023\n",
            "Cuda compilation tools, release 12.2, V12.2.140\n",
            "Build cuda_12.2.r12.2/compiler.33191640_0\n"
          ]
        }
      ],
      "source": [
        "!nvcc --version"
      ]
    },
    {
      "cell_type": "code",
      "source": [
        "!ls"
      ],
      "metadata": {
        "colab": {
          "base_uri": "https://localhost:8080/"
        },
        "id": "Wy2j9hQ3tD-T",
        "outputId": "7e156ecf-d25e-475c-b5fb-b5a8f9c5b78d"
      },
      "execution_count": 4,
      "outputs": [
        {
          "output_type": "stream",
          "name": "stdout",
          "text": [
            "ASVspoof2021_LA_eval\t\t\t\t\t      models\n",
            "cuda-repo-ubuntu1804-11-5-local_11.5.0-495.29.05-1_amd64.deb  SSL_Anti-spoofing\n",
            "Dataset_Speech_Assignment.zip\t\t\t\t      Untitled0.ipynb\n"
          ]
        }
      ]
    },
    {
      "cell_type": "code",
      "execution_count": 5,
      "metadata": {
        "colab": {
          "base_uri": "https://localhost:8080/"
        },
        "id": "uDqEczCz06B1",
        "outputId": "c811b3ca-e72d-4ef5-bc38-f35c93ec09ac"
      },
      "outputs": [
        {
          "output_type": "stream",
          "name": "stdout",
          "text": [
            "--2024-05-01 04:05:15--  https://repo.anaconda.com/miniconda/Miniconda3-py39_24.1.2-0-Linux-x86_64.sh\n",
            "Resolving repo.anaconda.com (repo.anaconda.com)... 104.16.191.158, 104.16.32.241, 2606:4700::6810:bf9e, ...\n",
            "Connecting to repo.anaconda.com (repo.anaconda.com)|104.16.191.158|:443... connected.\n",
            "HTTP request sent, awaiting response... 200 OK\n",
            "Length: 132347829 (126M) [application/octet-stream]\n",
            "Saving to: ‘Miniconda3-py39_24.1.2-0-Linux-x86_64.sh’\n",
            "\n",
            "Miniconda3-py39_24. 100%[===================>] 126.22M  42.1MB/s    in 3.0s    \n",
            "\n",
            "2024-05-01 04:05:18 (42.1 MB/s) - ‘Miniconda3-py39_24.1.2-0-Linux-x86_64.sh’ saved [132347829/132347829]\n",
            "\n",
            "PREFIX=/usr/local\n",
            "Unpacking payload ...\n",
            "                                                                                        \n",
            "Installing base environment...\n",
            "\n",
            "\n",
            "Downloading and Extracting Packages:\n",
            "\n",
            "\n",
            "Downloading and Extracting Packages:\n",
            "\n",
            "Preparing transaction: - \b\b\\ \b\b| \b\b/ \b\bdone\n",
            "Executing transaction: \\ \b\b| \b\b/ \b\b- \b\b\\ \b\b| \b\b/ \b\b- \b\b\\ \b\b| \b\b/ \b\b- \b\b\\ \b\b| \b\b/ \b\b- \b\b\\ \b\b| \b\b/ \b\b- \b\b\\ \b\b| \b\b/ \b\b- \b\b\\ \b\b| \b\bdone\n",
            "installation finished.\n",
            "WARNING:\n",
            "    You currently have a PYTHONPATH environment variable set. This may cause\n",
            "    unexpected behavior when running the Python interpreter in Miniconda3.\n",
            "    For best results, please verify that your PYTHONPATH only points to\n",
            "    directories of packages that are compatible with the Python interpreter\n",
            "    in Miniconda3: /usr/local\n"
          ]
        }
      ],
      "source": [
        "!wget https://repo.anaconda.com/miniconda/Miniconda3-py37_22.11.1-1-Linux-x86_64.sh\n",
        "!chmod +x Miniconda3-py39_24.1.2-0-Linux-x86_64.sh\n",
        "!bash Miniconda3-py39_24.1.2-0-Linux-x86_64.sh -b -f -p /usr/local\n"
      ]
    },
    {
      "cell_type": "code",
      "execution_count": 7,
      "metadata": {
        "id": "ZdlswnilBzGk"
      },
      "outputs": [],
      "source": [
        "import sys\n",
        "sys.path.append('/usr/local/lib/python3.9/site-packages/')\n"
      ]
    },
    {
      "cell_type": "code",
      "execution_count": 8,
      "metadata": {
        "id": "F4GbvIpKCQxb",
        "colab": {
          "base_uri": "https://localhost:8080/"
        },
        "outputId": "8961ab4f-9886-4156-f035-e30f42dc4367"
      },
      "outputs": [
        {
          "output_type": "stream",
          "name": "stdout",
          "text": [
            "Python 3.9.18\n"
          ]
        }
      ],
      "source": [
        "!python --version"
      ]
    },
    {
      "cell_type": "markdown",
      "metadata": {
        "id": "Nt-fNJ0qCXl_"
      },
      "source": [
        "### ================================================================================================================================="
      ]
    },
    {
      "cell_type": "code",
      "execution_count": 9,
      "metadata": {
        "colab": {
          "base_uri": "https://localhost:8080/"
        },
        "id": "sLJbtPfeCWJJ",
        "outputId": "a8083bcb-8595-4d68-fd9d-c171e82c00fa"
      },
      "outputs": [
        {
          "output_type": "stream",
          "name": "stdout",
          "text": [
            "WARNING: A conda environment already exists at '/usr/local/envs/SSL_Spoofing'\n",
            "Remove existing environment (y/[n])? y\n",
            "\n",
            "Channels:\n",
            " - defaults\n",
            "Platform: linux-64\n",
            "Collecting package metadata (repodata.json): - \b\b\\ \b\b| \b\b/ \b\b- \b\b\\ \b\b| \b\b/ \b\b- \b\b\\ \b\b| \b\b/ \b\b- \b\b\\ \b\bdone\n",
            "Solving environment: / \b\bdone\n",
            "\n",
            "## Package Plan ##\n",
            "\n",
            "  environment location: /usr/local/envs/SSL_Spoofing\n",
            "\n",
            "  added / updated specs:\n",
            "    - python=3.9\n",
            "\n",
            "\n",
            "The following NEW packages will be INSTALLED:\n",
            "\n",
            "  _libgcc_mutex      pkgs/main/linux-64::_libgcc_mutex-0.1-main \n",
            "  _openmp_mutex      pkgs/main/linux-64::_openmp_mutex-5.1-1_gnu \n",
            "  ca-certificates    pkgs/main/linux-64::ca-certificates-2024.3.11-h06a4308_0 \n",
            "  ld_impl_linux-64   pkgs/main/linux-64::ld_impl_linux-64-2.38-h1181459_1 \n",
            "  libffi             pkgs/main/linux-64::libffi-3.4.4-h6a678d5_1 \n",
            "  libgcc-ng          pkgs/main/linux-64::libgcc-ng-11.2.0-h1234567_1 \n",
            "  libgomp            pkgs/main/linux-64::libgomp-11.2.0-h1234567_1 \n",
            "  libstdcxx-ng       pkgs/main/linux-64::libstdcxx-ng-11.2.0-h1234567_1 \n",
            "  ncurses            pkgs/main/linux-64::ncurses-6.4-h6a678d5_0 \n",
            "  openssl            pkgs/main/linux-64::openssl-3.0.13-h7f8727e_0 \n",
            "  pip                pkgs/main/linux-64::pip-23.3.1-py39h06a4308_0 \n",
            "  python             pkgs/main/linux-64::python-3.9.19-h955ad1f_0 \n",
            "  readline           pkgs/main/linux-64::readline-8.2-h5eee18b_0 \n",
            "  setuptools         pkgs/main/linux-64::setuptools-68.2.2-py39h06a4308_0 \n",
            "  sqlite             pkgs/main/linux-64::sqlite-3.45.3-h5eee18b_0 \n",
            "  tk                 pkgs/main/linux-64::tk-8.6.12-h1ccaba5_0 \n",
            "  tzdata             pkgs/main/noarch::tzdata-2024a-h04d1e81_0 \n",
            "  wheel              pkgs/main/linux-64::wheel-0.41.2-py39h06a4308_0 \n",
            "  xz                 pkgs/main/linux-64::xz-5.4.6-h5eee18b_0 \n",
            "  zlib               pkgs/main/linux-64::zlib-1.2.13-h5eee18b_0 \n",
            "\n",
            "\n",
            "Proceed ([y]/n)? y\n",
            "\n",
            "\n",
            "Downloading and Extracting Packages:\n",
            "\n",
            "Preparing transaction: \\ \b\b| \b\b/ \b\b- \b\bdone\n",
            "Verifying transaction: | \b\b/ \b\b- \b\b\\ \b\b| \b\b/ \b\b- \b\b\\ \b\b| \b\b/ \b\b- \b\b\\ \b\b| \b\b/ \b\b- \b\b\\ \b\b| \b\b/ \b\b- \b\b\\ \b\b| \b\b/ \b\b- \b\b\\ \b\bdone\n",
            "Executing transaction: / \b\b- \b\b\\ \b\b| \b\b/ \b\b- \b\b\\ \b\b| \b\b/ \b\b- \b\bdone\n",
            "#\n",
            "# To activate this environment, use\n",
            "#\n",
            "#     $ conda activate SSL_Spoofing\n",
            "#\n",
            "# To deactivate an active environment, use\n",
            "#\n",
            "#     $ conda deactivate\n",
            "\n"
          ]
        }
      ],
      "source": [
        "!conda create -n SSL_Spoofing python=3.9"
      ]
    },
    {
      "cell_type": "code",
      "execution_count": 10,
      "metadata": {
        "colab": {
          "base_uri": "https://localhost:8080/"
        },
        "id": "37cmo09oEw9f",
        "outputId": "c0e7a073-fcf0-4d2f-f575-85e6a90a6b7b"
      },
      "outputs": [
        {
          "output_type": "stream",
          "name": "stdout",
          "text": [
            "no change     /usr/local/condabin/conda\n",
            "no change     /usr/local/bin/conda\n",
            "no change     /usr/local/bin/conda-env\n",
            "no change     /usr/local/bin/activate\n",
            "no change     /usr/local/bin/deactivate\n",
            "no change     /usr/local/etc/profile.d/conda.sh\n",
            "no change     /usr/local/etc/fish/conf.d/conda.fish\n",
            "no change     /usr/local/shell/condabin/Conda.psm1\n",
            "no change     /usr/local/shell/condabin/conda-hook.ps1\n",
            "no change     /usr/local/lib/python3.9/site-packages/xontrib/conda.xsh\n",
            "no change     /usr/local/etc/profile.d/conda.csh\n",
            "no change     /root/.bashrc\n",
            "No action taken.\n"
          ]
        }
      ],
      "source": [
        "!conda init bash\n"
      ]
    },
    {
      "cell_type": "code",
      "execution_count": 11,
      "metadata": {
        "id": "3_7J1WW4FTKT"
      },
      "outputs": [],
      "source": [
        "!source /usr/local/etc/profile.d/conda.sh && conda activate SSL_Spoofing\n"
      ]
    },
    {
      "cell_type": "code",
      "execution_count": 12,
      "metadata": {
        "id": "kPTYMUN0-dtK",
        "colab": {
          "base_uri": "https://localhost:8080/"
        },
        "outputId": "77c3f9d4-2354-41d6-a9a6-06b1f8c39de4"
      },
      "outputs": [
        {
          "output_type": "stream",
          "name": "stdout",
          "text": [
            "Channels:\n",
            " - pytorch\n",
            " - nvidia\n",
            " - defaults\n",
            "Platform: linux-64\n",
            "Collecting package metadata (repodata.json): - \b\b\\ \b\b| \b\b/ \b\b- \b\b\\ \b\b| \b\b/ \b\b- \b\b\\ \b\b| \b\bdone\n",
            "Solving environment: - \b\b\\ \b\b| \b\b/ \b\b- \b\b\\ \b\bdone\n",
            "\n",
            "## Package Plan ##\n",
            "\n",
            "  environment location: /usr/local\n",
            "\n",
            "  added / updated specs:\n",
            "    - pytorch-cuda=12.1\n",
            "    - pytorch==2.2.2\n",
            "    - torchaudio==2.2.2\n",
            "    - torchvision==0.17.2\n",
            "\n",
            "\n",
            "The following packages will be UPDATED:\n",
            "\n",
            "  archspec                               0.2.1-pyhd3eb1b0_0 --> 0.2.3-pyhd3eb1b0_0 \n",
            "  ca-certificates                     2023.12.12-h06a4308_0 --> 2024.3.11-h06a4308_0 \n",
            "  conda                               24.1.2-py39h06a4308_0 --> 24.4.0-py39h06a4308_0 \n",
            "\n",
            "\n",
            "Proceed ([y]/n)? y\n",
            "\n",
            "\n",
            "Downloading and Extracting Packages:\n",
            "\n",
            "Preparing transaction: / \b\bdone\n",
            "Verifying transaction: \\ \b\bdone\n",
            "Executing transaction: / \b\b- \b\b\\ \b\b| \b\b/ \b\b- \b\bdone\n"
          ]
        }
      ],
      "source": [
        "!conda install pytorch==2.2.2 torchvision==0.17.2 torchaudio==2.2.2 pytorch-cuda=12.1 -c pytorch -c nvidia"
      ]
    },
    {
      "cell_type": "code",
      "execution_count": 13,
      "metadata": {
        "id": "e5e3ehtzIu1T"
      },
      "outputs": [],
      "source": [
        "#!pip install torch==2.2.0+cu118 torchvision==0.17.0+cu118 torchaudio==2.2.0 -f https://download.pytorch.org/whl/torch_stable.html"
      ]
    },
    {
      "cell_type": "code",
      "execution_count": 14,
      "metadata": {
        "id": "_2wxx2PMzZmc",
        "colab": {
          "base_uri": "https://localhost:8080/"
        },
        "outputId": "425254aa-093b-45bb-c381-374cda9d271f"
      },
      "outputs": [
        {
          "output_type": "stream",
          "name": "stdout",
          "text": [
            "ASVspoof2021_LA_eval\t\t\t\t\t      models\n",
            "cuda-repo-ubuntu1804-11-5-local_11.5.0-495.29.05-1_amd64.deb  SSL_Anti-spoofing\n",
            "Dataset_Speech_Assignment.zip\t\t\t\t      Untitled0.ipynb\n",
            "Miniconda3-py39_24.1.2-0-Linux-x86_64.sh\n"
          ]
        }
      ],
      "source": [
        "!ls"
      ]
    },
    {
      "cell_type": "code",
      "execution_count": 15,
      "metadata": {
        "id": "kiO4cBhr307z",
        "colab": {
          "base_uri": "https://localhost:8080/"
        },
        "outputId": "462aa1a9-5bf0-4b19-d2fc-7b1c674ef49a"
      },
      "outputs": [
        {
          "output_type": "stream",
          "name": "stdout",
          "text": [
            "Python 3.9.18\n"
          ]
        }
      ],
      "source": [
        "!python --version"
      ]
    },
    {
      "cell_type": "code",
      "execution_count": 16,
      "metadata": {
        "id": "qC9b78lvIwdp",
        "colab": {
          "base_uri": "https://localhost:8080/"
        },
        "outputId": "801c0a9d-a054-4868-bd86-894dc498fb3a"
      },
      "outputs": [
        {
          "output_type": "stream",
          "name": "stdout",
          "text": [
            "/content/drive/MyDrive/ASSIGNMENT3_speech/SSL_Anti-spoofing/fairseq-a54021305d6b3c4c5959ac9395135f63202db8f1\n"
          ]
        }
      ],
      "source": [
        "cd SSL_Anti-spoofing/fairseq-a54021305d6b3c4c5959ac9395135f63202db8f1"
      ]
    },
    {
      "cell_type": "code",
      "execution_count": 17,
      "metadata": {
        "id": "4ZAzW3XfK9yO",
        "colab": {
          "base_uri": "https://localhost:8080/"
        },
        "outputId": "dd6d7ae9-8c35-4fd4-e812-842dcf1bea1f"
      },
      "outputs": [
        {
          "output_type": "stream",
          "name": "stdout",
          "text": [
            "Obtaining file:///content/drive/MyDrive/ASSIGNMENT3_speech/SSL_Anti-spoofing/fairseq-a54021305d6b3c4c5959ac9395135f63202db8f1\n",
            "  Installing build dependencies ... \u001b[?25l\u001b[?25hdone\n",
            "  Checking if build backend supports build_editable ... \u001b[?25l\u001b[?25hdone\n",
            "  Getting requirements to build editable ... \u001b[?25l\u001b[?25hdone\n",
            "  Installing backend dependencies ... \u001b[?25l\u001b[?25hdone\n",
            "  Preparing editable metadata (pyproject.toml) ... \u001b[?25l\u001b[?25hdone\n",
            "Requirement already satisfied: cffi in /usr/local/lib/python3.9/site-packages (from fairseq==1.0.0a0+4acaa61) (1.16.0)\n",
            "Requirement already satisfied: cython in /usr/local/lib/python3.9/site-packages (from fairseq==1.0.0a0+4acaa61) (3.0.10)\n",
            "Requirement already satisfied: hydra-core<1.1,>=1.0.7 in /usr/local/lib/python3.9/site-packages (from fairseq==1.0.0a0+4acaa61) (1.0.7)\n",
            "Requirement already satisfied: omegaconf<2.1 in /usr/local/lib/python3.9/site-packages (from fairseq==1.0.0a0+4acaa61) (2.0.6)\n",
            "Requirement already satisfied: regex in /usr/local/lib/python3.9/site-packages (from fairseq==1.0.0a0+4acaa61) (2024.4.28)\n",
            "Requirement already satisfied: sacrebleu>=1.4.12 in /usr/local/lib/python3.9/site-packages (from fairseq==1.0.0a0+4acaa61) (2.4.2)\n",
            "Requirement already satisfied: torch in /usr/local/lib/python3.9/site-packages (from fairseq==1.0.0a0+4acaa61) (2.2.2)\n",
            "Requirement already satisfied: tqdm in /usr/local/lib/python3.9/site-packages (from fairseq==1.0.0a0+4acaa61) (4.65.0)\n",
            "Requirement already satisfied: bitarray in /usr/local/lib/python3.9/site-packages (from fairseq==1.0.0a0+4acaa61) (2.9.2)\n",
            "Requirement already satisfied: torchaudio>=0.8.0 in /usr/local/lib/python3.9/site-packages (from fairseq==1.0.0a0+4acaa61) (2.2.2)\n",
            "Requirement already satisfied: numpy in /usr/local/lib/python3.9/site-packages (from fairseq==1.0.0a0+4acaa61) (1.19.5)\n",
            "Requirement already satisfied: antlr4-python3-runtime==4.8 in /usr/local/lib/python3.9/site-packages (from hydra-core<1.1,>=1.0.7->fairseq==1.0.0a0+4acaa61) (4.8)\n",
            "Requirement already satisfied: PyYAML>=5.1.* in /usr/local/lib/python3.9/site-packages (from omegaconf<2.1->fairseq==1.0.0a0+4acaa61) (6.0.1)\n",
            "Collecting typing-extensions (from omegaconf<2.1->fairseq==1.0.0a0+4acaa61)\n",
            "  Downloading typing_extensions-4.11.0-py3-none-any.whl.metadata (3.0 kB)\n",
            "Requirement already satisfied: portalocker in /usr/local/lib/python3.9/site-packages (from sacrebleu>=1.4.12->fairseq==1.0.0a0+4acaa61) (2.8.2)\n",
            "Requirement already satisfied: tabulate>=0.8.9 in /usr/local/lib/python3.9/site-packages (from sacrebleu>=1.4.12->fairseq==1.0.0a0+4acaa61) (0.9.0)\n",
            "Requirement already satisfied: colorama in /usr/local/lib/python3.9/site-packages (from sacrebleu>=1.4.12->fairseq==1.0.0a0+4acaa61) (0.4.6)\n",
            "Requirement already satisfied: lxml in /usr/local/lib/python3.9/site-packages (from sacrebleu>=1.4.12->fairseq==1.0.0a0+4acaa61) (5.2.1)\n",
            "Requirement already satisfied: pycparser in /usr/local/lib/python3.9/site-packages (from cffi->fairseq==1.0.0a0+4acaa61) (2.21)\n",
            "Requirement already satisfied: filelock in /usr/local/lib/python3.9/site-packages (from torch->fairseq==1.0.0a0+4acaa61) (3.13.1)\n",
            "Requirement already satisfied: sympy in /usr/local/lib/python3.9/site-packages (from torch->fairseq==1.0.0a0+4acaa61) (1.12)\n",
            "Requirement already satisfied: networkx in /usr/local/lib/python3.9/site-packages (from torch->fairseq==1.0.0a0+4acaa61) (3.1)\n",
            "Requirement already satisfied: jinja2 in /usr/local/lib/python3.9/site-packages (from torch->fairseq==1.0.0a0+4acaa61) (3.1.3)\n",
            "Requirement already satisfied: fsspec in /usr/local/lib/python3.9/site-packages (from torch->fairseq==1.0.0a0+4acaa61) (2024.3.1)\n",
            "Requirement already satisfied: MarkupSafe>=2.0 in /usr/local/lib/python3.9/site-packages (from jinja2->torch->fairseq==1.0.0a0+4acaa61) (2.1.3)\n",
            "Requirement already satisfied: mpmath>=0.19 in /usr/local/lib/python3.9/site-packages (from sympy->torch->fairseq==1.0.0a0+4acaa61) (1.3.0)\n",
            "Downloading typing_extensions-4.11.0-py3-none-any.whl (34 kB)\n",
            "Building wheels for collected packages: fairseq\n",
            "  Building editable for fairseq (pyproject.toml) ... \u001b[?25l\u001b[?25hdone\n",
            "  Created wheel for fairseq: filename=fairseq-1.0.0a0+4acaa61-0.editable-cp39-cp39-linux_x86_64.whl size=9282 sha256=c40049ab904757f1d5bcc0be56323ce03de4a38e16e91ce864d31ff8b567db72\n",
            "  Stored in directory: /tmp/pip-ephem-wheel-cache-ev8s62sv/wheels/a0/ab/89/e20e08f556bf777f0f013cc02469b870309739b1d37895aedf\n",
            "Successfully built fairseq\n",
            "\u001b[33mDEPRECATION: omegaconf 2.0.6 has a non-standard dependency specifier PyYAML>=5.1.*. pip 24.0 will enforce this behaviour change. A possible replacement is to upgrade to a newer version of omegaconf or contact the author to suggest that they release a version with a conforming dependency specifiers. Discussion can be found at https://github.com/pypa/pip/issues/12063\u001b[0m\u001b[33m\n",
            "\u001b[0mInstalling collected packages: typing-extensions, fairseq\n",
            "  Attempting uninstall: fairseq\n",
            "    Found existing installation: fairseq 1.0.0a0+4acaa61\n",
            "    Uninstalling fairseq-1.0.0a0+4acaa61:\n",
            "      Successfully uninstalled fairseq-1.0.0a0+4acaa61\n",
            "Successfully installed fairseq-1.0.0a0+4acaa61 typing-extensions-4.11.0\n",
            "\u001b[33mWARNING: Running pip as the 'root' user can result in broken permissions and conflicting behaviour with the system package manager. It is recommended to use a virtual environment instead: https://pip.pypa.io/warnings/venv\u001b[0m\u001b[33m\n",
            "\u001b[0m"
          ]
        }
      ],
      "source": [
        "!pip install --editable ./"
      ]
    },
    {
      "cell_type": "code",
      "execution_count": 18,
      "metadata": {
        "colab": {
          "base_uri": "https://localhost:8080/"
        },
        "id": "5jbH6mexASrW",
        "outputId": "5121db0f-aec4-4b7f-9d87-864abaf04c14"
      },
      "outputs": [
        {
          "output_type": "stream",
          "name": "stdout",
          "text": [
            "/content/drive/MyDrive/ASSIGNMENT3_speech/SSL_Anti-spoofing\n"
          ]
        }
      ],
      "source": [
        "cd .."
      ]
    },
    {
      "cell_type": "code",
      "execution_count": 19,
      "metadata": {
        "colab": {
          "base_uri": "https://localhost:8080/"
        },
        "id": "e3hh3apN_zxY",
        "outputId": "e7e62654-4eb9-4b25-a5b4-f5973c4e1f9c"
      },
      "outputs": [
        {
          "output_type": "stream",
          "name": "stdout",
          "text": [
            "Requirement already satisfied: librosa==0.9.1 in /usr/local/lib/python3.9/site-packages (from -r requirements.txt (line 2)) (0.9.1)\n",
            "Requirement already satisfied: tensorboardX==2.5 in /usr/local/lib/python3.9/site-packages (from -r requirements.txt (line 3)) (2.5)\n",
            "Requirement already satisfied: audioread>=2.1.5 in /usr/local/lib/python3.9/site-packages (from librosa==0.9.1->-r requirements.txt (line 2)) (3.0.1)\n",
            "Requirement already satisfied: numpy>=1.17.0 in /usr/local/lib/python3.9/site-packages (from librosa==0.9.1->-r requirements.txt (line 2)) (1.19.5)\n",
            "Requirement already satisfied: scipy>=1.2.0 in /usr/local/lib/python3.9/site-packages (from librosa==0.9.1->-r requirements.txt (line 2)) (1.13.0)\n",
            "Requirement already satisfied: scikit-learn>=0.19.1 in /usr/local/lib/python3.9/site-packages (from librosa==0.9.1->-r requirements.txt (line 2)) (1.4.2)\n",
            "Requirement already satisfied: joblib>=0.14 in /usr/local/lib/python3.9/site-packages (from librosa==0.9.1->-r requirements.txt (line 2)) (1.4.0)\n",
            "Requirement already satisfied: decorator>=4.0.10 in /usr/local/lib/python3.9/site-packages (from librosa==0.9.1->-r requirements.txt (line 2)) (5.1.1)\n",
            "Requirement already satisfied: resampy>=0.2.2 in /usr/local/lib/python3.9/site-packages (from librosa==0.9.1->-r requirements.txt (line 2)) (0.4.3)\n",
            "Requirement already satisfied: numba>=0.45.1 in /usr/local/lib/python3.9/site-packages (from librosa==0.9.1->-r requirements.txt (line 2)) (0.59.1)\n",
            "Requirement already satisfied: soundfile>=0.10.2 in /usr/local/lib/python3.9/site-packages (from librosa==0.9.1->-r requirements.txt (line 2)) (0.12.1)\n",
            "Requirement already satisfied: pooch>=1.0 in /usr/local/lib/python3.9/site-packages (from librosa==0.9.1->-r requirements.txt (line 2)) (1.8.1)\n",
            "Requirement already satisfied: packaging>=20.0 in /usr/local/lib/python3.9/site-packages (from librosa==0.9.1->-r requirements.txt (line 2)) (23.1)\n",
            "Requirement already satisfied: six in /usr/local/lib/python3.9/site-packages (from tensorboardX==2.5->-r requirements.txt (line 3)) (1.16.0)\n",
            "Requirement already satisfied: protobuf>=3.8.0 in /usr/local/lib/python3.9/site-packages (from tensorboardX==2.5->-r requirements.txt (line 3)) (5.26.1)\n",
            "Requirement already satisfied: llvmlite<0.43,>=0.42.0dev0 in /usr/local/lib/python3.9/site-packages (from numba>=0.45.1->librosa==0.9.1->-r requirements.txt (line 2)) (0.42.0)\n",
            "Collecting numpy>=1.17.0 (from librosa==0.9.1->-r requirements.txt (line 2))\n",
            "  Using cached numpy-1.26.4-cp39-cp39-manylinux_2_17_x86_64.manylinux2014_x86_64.whl.metadata (61 kB)\n",
            "Requirement already satisfied: platformdirs>=2.5.0 in /usr/local/lib/python3.9/site-packages (from pooch>=1.0->librosa==0.9.1->-r requirements.txt (line 2)) (3.10.0)\n",
            "Requirement already satisfied: requests>=2.19.0 in /usr/local/lib/python3.9/site-packages (from pooch>=1.0->librosa==0.9.1->-r requirements.txt (line 2)) (2.31.0)\n",
            "Requirement already satisfied: threadpoolctl>=2.0.0 in /usr/local/lib/python3.9/site-packages (from scikit-learn>=0.19.1->librosa==0.9.1->-r requirements.txt (line 2)) (3.5.0)\n",
            "Requirement already satisfied: cffi>=1.0 in /usr/local/lib/python3.9/site-packages (from soundfile>=0.10.2->librosa==0.9.1->-r requirements.txt (line 2)) (1.16.0)\n",
            "Requirement already satisfied: pycparser in /usr/local/lib/python3.9/site-packages (from cffi>=1.0->soundfile>=0.10.2->librosa==0.9.1->-r requirements.txt (line 2)) (2.21)\n",
            "Requirement already satisfied: charset-normalizer<4,>=2 in /usr/local/lib/python3.9/site-packages (from requests>=2.19.0->pooch>=1.0->librosa==0.9.1->-r requirements.txt (line 2)) (2.0.4)\n",
            "Requirement already satisfied: idna<4,>=2.5 in /usr/local/lib/python3.9/site-packages (from requests>=2.19.0->pooch>=1.0->librosa==0.9.1->-r requirements.txt (line 2)) (3.4)\n",
            "Requirement already satisfied: urllib3<3,>=1.21.1 in /usr/local/lib/python3.9/site-packages (from requests>=2.19.0->pooch>=1.0->librosa==0.9.1->-r requirements.txt (line 2)) (2.1.0)\n",
            "Requirement already satisfied: certifi>=2017.4.17 in /usr/local/lib/python3.9/site-packages (from requests>=2.19.0->pooch>=1.0->librosa==0.9.1->-r requirements.txt (line 2)) (2024.2.2)\n",
            "Using cached numpy-1.26.4-cp39-cp39-manylinux_2_17_x86_64.manylinux2014_x86_64.whl (18.2 MB)\n",
            "\u001b[33mDEPRECATION: omegaconf 2.0.6 has a non-standard dependency specifier PyYAML>=5.1.*. pip 24.0 will enforce this behaviour change. A possible replacement is to upgrade to a newer version of omegaconf or contact the author to suggest that they release a version with a conforming dependency specifiers. Discussion can be found at https://github.com/pypa/pip/issues/12063\u001b[0m\u001b[33m\n",
            "\u001b[0mInstalling collected packages: numpy\n",
            "  Attempting uninstall: numpy\n",
            "    Found existing installation: numpy 1.19.5\n",
            "    Uninstalling numpy-1.19.5:\n",
            "      Successfully uninstalled numpy-1.19.5\n",
            "Successfully installed numpy-1.26.4\n",
            "\u001b[33mWARNING: Running pip as the 'root' user can result in broken permissions and conflicting behaviour with the system package manager. It is recommended to use a virtual environment instead: https://pip.pypa.io/warnings/venv\u001b[0m\u001b[33m\n",
            "\u001b[0m"
          ]
        }
      ],
      "source": [
        "!pip install -r requirements.txt"
      ]
    },
    {
      "cell_type": "code",
      "execution_count": null,
      "metadata": {
        "id": "_zXf-aIc4Fcb"
      },
      "outputs": [],
      "source": [
        "##===================================================================================================================="
      ]
    },
    {
      "cell_type": "code",
      "execution_count": 20,
      "metadata": {
        "colab": {
          "base_uri": "https://localhost:8080/"
        },
        "id": "JzNDINz5odJV",
        "outputId": "5a1f4e05-d611-46a4-eb82-cf8569b2b576"
      },
      "outputs": [
        {
          "output_type": "stream",
          "name": "stdout",
          "text": [
            "core_scripts\t     evaluate_2021_LA.py\t\t\t       __pycache__\n",
            "database\t     fairseq-a54021305d6b3c4c5959ac9395135f63202db8f1  RawBoost.py\n",
            "data_utils_SSL.py    LA-keys-stage-1\t\t\t\t       README.md\n",
            "DF-keys-stage-1      LICENSE\t\t\t\t\t       requirements.txt\n",
            "eval_metric_LA.py    main_SSL_DF.py\t\t\t\t       Scores\n",
            "eval_metrics_DF.py   main_SSL_LA.py\t\t\t\t       Simplified_CM_solution.py\n",
            "evaluate_2021_DF.py  model.py\n"
          ]
        }
      ],
      "source": [
        "!ls"
      ]
    },
    {
      "cell_type": "code",
      "execution_count": 21,
      "metadata": {
        "colab": {
          "base_uri": "https://localhost:8080/"
        },
        "id": "YCkg0KPBKqgC",
        "outputId": "05b0af36-eeee-4946-ed25-98f03c9ac011"
      },
      "outputs": [
        {
          "output_type": "stream",
          "name": "stdout",
          "text": [
            "/env/python\n"
          ]
        }
      ],
      "source": [
        "!echo $PYTHONPATH"
      ]
    },
    {
      "cell_type": "code",
      "execution_count": 22,
      "metadata": {
        "id": "co5WfFFmL1az"
      },
      "outputs": [],
      "source": [
        "import os\n",
        "os.environ['PYTHONPATH'] += \"/content/drive/MyDrive/ASSIGNMENT3_speech/SSL_Anti-spoofing/fairseq-a54021305d6b3c4c5959ac9395135f63202db8f1\""
      ]
    },
    {
      "cell_type": "code",
      "execution_count": 22,
      "metadata": {
        "id": "h7HpDtVzL-sE"
      },
      "outputs": [],
      "source": []
    },
    {
      "cell_type": "code",
      "execution_count": 26,
      "metadata": {
        "colab": {
          "base_uri": "https://localhost:8080/"
        },
        "id": "cND-OzdI45L_",
        "outputId": "5e86d202-0f74-4645-b99d-a285f8126a82"
      },
      "outputs": [
        {
          "output_type": "stream",
          "name": "stdout",
          "text": [
            "/usr/local/lib/python3.9/site-packages/librosa/util/utils.py:5: UserWarning: A NumPy version >=1.22.4 and <2.3.0 is required for this version of SciPy (detected version 1.19.5)\n",
            "  import scipy.ndimage\n",
            "Traceback (most recent call last):\n",
            "  File \"/content/drive/MyDrive/ASSIGNMENT3_speech/SSL_Anti-spoofing/main_SSL_LA.py\", line 10, in <module>\n",
            "    from data_utils_SSL import genSpoof_list,Dataset_ASVspoof2019_train,Dataset_ASVspoof2021_eval\n",
            "  File \"/content/drive/MyDrive/ASSIGNMENT3_speech/SSL_Anti-spoofing/data_utils_SSL.py\", line 6, in <module>\n",
            "    import librosa\n",
            "  File \"/usr/local/lib/python3.9/site-packages/librosa/__init__.py\", line 209, in <module>\n",
            "    from . import core\n",
            "  File \"/usr/local/lib/python3.9/site-packages/librosa/core/__init__.py\", line 5, in <module>\n",
            "    from .convert import *  # pylint: disable=wildcard-import\n",
            "  File \"/usr/local/lib/python3.9/site-packages/librosa/core/convert.py\", line 7, in <module>\n",
            "    from . import notation\n",
            "  File \"/usr/local/lib/python3.9/site-packages/librosa/core/notation.py\", line 8, in <module>\n",
            "    from ..util.exceptions import ParameterError\n",
            "  File \"/usr/local/lib/python3.9/site-packages/librosa/util/__init__.py\", line 77, in <module>\n",
            "    from .utils import *  # pylint: disable=wildcard-import\n",
            "  File \"/usr/local/lib/python3.9/site-packages/librosa/util/utils.py\", line 5, in <module>\n",
            "    import scipy.ndimage\n",
            "  File \"/usr/local/lib/python3.9/site-packages/scipy/ndimage/__init__.py\", line 152, in <module>\n",
            "    from ._filters import *\n",
            "  File \"/usr/local/lib/python3.9/site-packages/scipy/ndimage/_filters.py\", line 37, in <module>\n",
            "    from scipy._lib._util import normalize_axis_index\n",
            "  File \"/usr/local/lib/python3.9/site-packages/scipy/_lib/_util.py\", line 18, in <module>\n",
            "    from scipy._lib._array_api import array_namespace\n",
            "  File \"/usr/local/lib/python3.9/site-packages/scipy/_lib/_array_api.py\", line 17, in <module>\n",
            "    from scipy._lib.array_api_compat import (\n",
            "  File \"/usr/local/lib/python3.9/site-packages/scipy/_lib/array_api_compat/numpy/__init__.py\", line 16, in <module>\n",
            "    __import__(__package__ + '.linalg')\n",
            "  File \"/usr/local/lib/python3.9/site-packages/scipy/_lib/array_api_compat/numpy/linalg.py\", line 2, in <module>\n",
            "    from numpy.linalg import __all__ as linalg_all\n",
            "ImportError: cannot import name '__all__' from 'numpy.linalg' (/usr/local/lib/python3.9/site-packages/numpy/linalg/__init__.py)\n"
          ]
        }
      ],
      "source": [
        "!CUDA_VISIBLE_DEVICES=0 python main_SSL_LA.py --track=LA --is_eval --eval --database_path=\"/content/drive/MyDrive/ASSIGNMENT3_speech\"   --model_path='/content/drive/MyDrive/ASSIGNMENT3_speech/models/xlsr2_300m.pt' --eval_output='eval_CM_scores_file_SSL_LA.txt'\n",
        "\n",
        "#CUDA_VISIBLE_DEVICES=0 python main_SSL_DF.py --track=DF --is_eval --eval --model_path='/path/to/your/best_SSL_model_LA.pth' --eval_output='eval_CM_scores_file_SSL_DF.txt'"
      ]
    },
    {
      "cell_type": "code",
      "execution_count": 25,
      "metadata": {
        "colab": {
          "base_uri": "https://localhost:8080/"
        },
        "id": "8Hh2_1no6284",
        "outputId": "7604af6b-0172-4fed-f898-1890dbbadeb6"
      },
      "outputs": [
        {
          "output_type": "stream",
          "name": "stdout",
          "text": [
            "Python 3.9.18\n"
          ]
        }
      ],
      "source": [
        "!python --version"
      ]
    },
    {
      "cell_type": "code",
      "source": [
        "from numpy.linalg import inv, eig"
      ],
      "metadata": {
        "id": "nlRFUXCwRMX1"
      },
      "execution_count": 1,
      "outputs": []
    },
    {
      "cell_type": "code",
      "source": [
        "!pip install numpy==1.19.5"
      ],
      "metadata": {
        "colab": {
          "base_uri": "https://localhost:8080/"
        },
        "id": "ob6mNckjQzeA",
        "outputId": "95b0f4f3-2dbb-473d-9775-c6f35181dced"
      },
      "execution_count": 24,
      "outputs": [
        {
          "output_type": "stream",
          "name": "stdout",
          "text": [
            "Collecting numpy==1.19.5\n",
            "  Using cached numpy-1.19.5-cp39-cp39-manylinux2010_x86_64.whl.metadata (2.0 kB)\n",
            "Using cached numpy-1.19.5-cp39-cp39-manylinux2010_x86_64.whl (14.9 MB)\n",
            "\u001b[33mDEPRECATION: omegaconf 2.0.6 has a non-standard dependency specifier PyYAML>=5.1.*. pip 24.0 will enforce this behaviour change. A possible replacement is to upgrade to a newer version of omegaconf or contact the author to suggest that they release a version with a conforming dependency specifiers. Discussion can be found at https://github.com/pypa/pip/issues/12063\u001b[0m\u001b[33m\n",
            "\u001b[0mInstalling collected packages: numpy\n",
            "  Attempting uninstall: numpy\n",
            "    Found existing installation: numpy 1.26.4\n",
            "    Uninstalling numpy-1.26.4:\n",
            "      Successfully uninstalled numpy-1.26.4\n",
            "\u001b[31mERROR: pip's dependency resolver does not currently take into account all the packages that are installed. This behaviour is the source of the following dependency conflicts.\n",
            "numba 0.59.1 requires numpy<1.27,>=1.22, but you have numpy 1.19.5 which is incompatible.\n",
            "scipy 1.13.0 requires numpy<2.3,>=1.22.4, but you have numpy 1.19.5 which is incompatible.\u001b[0m\u001b[31m\n",
            "\u001b[0mSuccessfully installed numpy-1.19.5\n",
            "\u001b[33mWARNING: Running pip as the 'root' user can result in broken permissions and conflicting behaviour with the system package manager. It is recommended to use a virtual environment instead: https://pip.pypa.io/warnings/venv\u001b[0m\u001b[33m\n",
            "\u001b[0m"
          ]
        }
      ]
    },
    {
      "cell_type": "code",
      "execution_count": 19,
      "metadata": {
        "colab": {
          "base_uri": "https://localhost:8080/"
        },
        "id": "JgZ-s8HF64bI",
        "outputId": "14f4dcdd-fa37-4731-f49d-591464550608"
      },
      "outputs": [
        {
          "output_type": "stream",
          "name": "stdout",
          "text": [
            "Collecting protoc-wheel\n",
            "  Downloading protoc_wheel-21.1-py2.py3-none-manylinux1_x86_64.whl.metadata (1.4 kB)\n",
            "Downloading protoc_wheel-21.1-py2.py3-none-manylinux1_x86_64.whl (1.6 MB)\n",
            "\u001b[2K   \u001b[90m━━━━━━━━━━━━━━━━━━━━━━━━━━━━━━━━━━━━━━━━\u001b[0m \u001b[32m1.6/1.6 MB\u001b[0m \u001b[31m7.7 MB/s\u001b[0m eta \u001b[36m0:00:00\u001b[0m\n",
            "\u001b[?25h\u001b[33mDEPRECATION: omegaconf 2.0.6 has a non-standard dependency specifier PyYAML>=5.1.*. pip 24.0 will enforce this behaviour change. A possible replacement is to upgrade to a newer version of omegaconf or contact the author to suggest that they release a version with a conforming dependency specifiers. Discussion can be found at https://github.com/pypa/pip/issues/12063\u001b[0m\u001b[33m\n",
            "\u001b[0mInstalling collected packages: protoc-wheel\n",
            "Successfully installed protoc-wheel-21.1\n",
            "\u001b[33mWARNING: Running pip as the 'root' user can result in broken permissions and conflicting behaviour with the system package manager. It is recommended to use a virtual environment instead: https://pip.pypa.io/warnings/venv\u001b[0m\u001b[33m\n",
            "\u001b[0m"
          ]
        }
      ],
      "source": [
        "!pip install protoc-wheel"
      ]
    },
    {
      "cell_type": "code",
      "source": [
        "!!pip install tensorboard"
      ],
      "metadata": {
        "colab": {
          "base_uri": "https://localhost:8080/"
        },
        "id": "xfsGBtcgb6FQ",
        "outputId": "031723df-9db8-4f7f-b62b-ecfd3086e420"
      },
      "execution_count": 21,
      "outputs": [
        {
          "output_type": "execute_result",
          "data": {
            "text/plain": [
              "['Collecting tensorboard',\n",
              " '  Downloading tensorboard-2.16.2-py3-none-any.whl.metadata (1.6 kB)',\n",
              " 'Collecting absl-py>=0.4 (from tensorboard)',\n",
              " '  Downloading absl_py-2.1.0-py3-none-any.whl.metadata (2.3 kB)',\n",
              " 'Collecting grpcio>=1.48.2 (from tensorboard)',\n",
              " '  Downloading grpcio-1.63.0-cp39-cp39-manylinux_2_17_x86_64.manylinux2014_x86_64.whl.metadata (3.2 kB)',\n",
              " 'Collecting markdown>=2.6.8 (from tensorboard)',\n",
              " '  Downloading Markdown-3.6-py3-none-any.whl.metadata (7.0 kB)',\n",
              " 'Requirement already satisfied: numpy>=1.12.0 in /usr/local/lib/python3.9/site-packages (from tensorboard) (1.26.4)',\n",
              " 'Requirement already satisfied: protobuf!=4.24.0,>=3.19.6 in /usr/local/lib/python3.9/site-packages (from tensorboard) (5.26.1)',\n",
              " 'Requirement already satisfied: setuptools>=41.0.0 in /usr/local/lib/python3.9/site-packages (from tensorboard) (68.2.2)',\n",
              " 'Requirement already satisfied: six>1.9 in /usr/local/lib/python3.9/site-packages (from tensorboard) (1.16.0)',\n",
              " 'Collecting tensorboard-data-server<0.8.0,>=0.7.0 (from tensorboard)',\n",
              " '  Downloading tensorboard_data_server-0.7.2-py3-none-manylinux_2_31_x86_64.whl.metadata (1.1 kB)',\n",
              " 'Collecting werkzeug>=1.0.1 (from tensorboard)',\n",
              " '  Downloading werkzeug-3.0.2-py3-none-any.whl.metadata (4.1 kB)',\n",
              " 'Collecting importlib-metadata>=4.4 (from markdown>=2.6.8->tensorboard)',\n",
              " '  Downloading importlib_metadata-7.1.0-py3-none-any.whl.metadata (4.7 kB)',\n",
              " 'Requirement already satisfied: MarkupSafe>=2.1.1 in /usr/local/lib/python3.9/site-packages (from werkzeug>=1.0.1->tensorboard) (2.1.3)',\n",
              " 'Collecting zipp>=0.5 (from importlib-metadata>=4.4->markdown>=2.6.8->tensorboard)',\n",
              " '  Downloading zipp-3.18.1-py3-none-any.whl.metadata (3.5 kB)',\n",
              " 'Downloading tensorboard-2.16.2-py3-none-any.whl (5.5 MB)',\n",
              " '\\x1b[?25l   \\x1b[90m━━━━━━━━━━━━━━━━━━━━━━━━━━━━━━━━━━━━━━━━\\x1b[0m \\x1b[32m0.0/5.5 MB\\x1b[0m \\x1b[31m?\\x1b[0m eta \\x1b[36m-:--:--\\x1b[0m',\n",
              " '\\x1b[2K   \\x1b[91m━━\\x1b[0m\\x1b[90m╺\\x1b[0m\\x1b[90m━━━━━━━━━━━━━━━━━━━━━━━━━━━━━━━━━━━━━\\x1b[0m \\x1b[32m0.3/5.5 MB\\x1b[0m \\x1b[31m9.0 MB/s\\x1b[0m eta \\x1b[36m0:00:01\\x1b[0m',\n",
              " '\\x1b[2K   \\x1b[91m━━━━━━━━━━━━━━━━━━━\\x1b[0m\\x1b[91m╸\\x1b[0m\\x1b[90m━━━━━━━━━━━━━━━━━━━━\\x1b[0m \\x1b[32m2.7/5.5 MB\\x1b[0m \\x1b[31m39.0 MB/s\\x1b[0m eta \\x1b[36m0:00:01\\x1b[0m',\n",
              " '\\x1b[2K   \\x1b[91m━━━━━━━━━━━━━━━━━━━━━━━━━━━━━━━━━━━━━━━\\x1b[0m\\x1b[91m╸\\x1b[0m \\x1b[32m5.5/5.5 MB\\x1b[0m \\x1b[31m62.6 MB/s\\x1b[0m eta \\x1b[36m0:00:01\\x1b[0m',\n",
              " '\\x1b[2K   \\x1b[90m━━━━━━━━━━━━━━━━━━━━━━━━━━━━━━━━━━━━━━━━\\x1b[0m \\x1b[32m5.5/5.5 MB\\x1b[0m \\x1b[31m44.1 MB/s\\x1b[0m eta \\x1b[36m0:00:00\\x1b[0m',\n",
              " '\\x1b[?25hDownloading absl_py-2.1.0-py3-none-any.whl (133 kB)',\n",
              " '\\x1b[?25l   \\x1b[90m━━━━━━━━━━━━━━━━━━━━━━━━━━━━━━━━━━━━━━━━\\x1b[0m \\x1b[32m0.0/133.7 kB\\x1b[0m \\x1b[31m?\\x1b[0m eta \\x1b[36m-:--:--\\x1b[0m',\n",
              " '\\x1b[2K   \\x1b[90m━━━━━━━━━━━━━━━━━━━━━━━━━━━━━━━━━━━━━━━━\\x1b[0m \\x1b[32m133.7/133.7 kB\\x1b[0m \\x1b[31m10.5 MB/s\\x1b[0m eta \\x1b[36m0:00:00\\x1b[0m',\n",
              " '\\x1b[?25hDownloading grpcio-1.63.0-cp39-cp39-manylinux_2_17_x86_64.manylinux2014_x86_64.whl (5.6 MB)',\n",
              " '\\x1b[?25l   \\x1b[90m━━━━━━━━━━━━━━━━━━━━━━━━━━━━━━━━━━━━━━━━\\x1b[0m \\x1b[32m0.0/5.6 MB\\x1b[0m \\x1b[31m?\\x1b[0m eta \\x1b[36m-:--:--\\x1b[0m',\n",
              " '\\x1b[2K   \\x1b[91m━━━━━━━━━━━━━━━━━━━━━━━━━━━━━━━━━━━━━━━\\x1b[0m\\x1b[90m╺\\x1b[0m \\x1b[32m5.5/5.6 MB\\x1b[0m \\x1b[31m165.9 MB/s\\x1b[0m eta \\x1b[36m0:00:01\\x1b[0m',\n",
              " '\\x1b[2K   \\x1b[90m━━━━━━━━━━━━━━━━━━━━━━━━━━━━━━━━━━━━━━━━\\x1b[0m \\x1b[32m5.6/5.6 MB\\x1b[0m \\x1b[31m84.5 MB/s\\x1b[0m eta \\x1b[36m0:00:00\\x1b[0m',\n",
              " '\\x1b[?25hDownloading Markdown-3.6-py3-none-any.whl (105 kB)',\n",
              " '\\x1b[?25l   \\x1b[90m━━━━━━━━━━━━━━━━━━━━━━━━━━━━━━━━━━━━━━━━\\x1b[0m \\x1b[32m0.0/105.4 kB\\x1b[0m \\x1b[31m?\\x1b[0m eta \\x1b[36m-:--:--\\x1b[0m',\n",
              " '\\x1b[2K   \\x1b[90m━━━━━━━━━━━━━━━━━━━━━━━━━━━━━━━━━━━━━━━━\\x1b[0m \\x1b[32m105.4/105.4 kB\\x1b[0m \\x1b[31m8.8 MB/s\\x1b[0m eta \\x1b[36m0:00:00\\x1b[0m',\n",
              " '\\x1b[?25hDownloading tensorboard_data_server-0.7.2-py3-none-manylinux_2_31_x86_64.whl (6.6 MB)',\n",
              " '\\x1b[?25l   \\x1b[90m━━━━━━━━━━━━━━━━━━━━━━━━━━━━━━━━━━━━━━━━\\x1b[0m \\x1b[32m0.0/6.6 MB\\x1b[0m \\x1b[31m?\\x1b[0m eta \\x1b[36m-:--:--\\x1b[0m',\n",
              " '\\x1b[2K   \\x1b[91m━━━━━━━━━━━━━━━━━━━━━━━━━━━━━━━━━━\\x1b[0m\\x1b[90m╺\\x1b[0m\\x1b[90m━━━━━\\x1b[0m \\x1b[32m5.7/6.6 MB\\x1b[0m \\x1b[31m170.5 MB/s\\x1b[0m eta \\x1b[36m0:00:01\\x1b[0m',\n",
              " '\\x1b[2K   \\x1b[91m━━━━━━━━━━━━━━━━━━━━━━━━━━━━━━━━━━━━━━━\\x1b[0m\\x1b[91m╸\\x1b[0m \\x1b[32m6.6/6.6 MB\\x1b[0m \\x1b[31m164.0 MB/s\\x1b[0m eta \\x1b[36m0:00:01\\x1b[0m',\n",
              " '\\x1b[2K   \\x1b[90m━━━━━━━━━━━━━━━━━━━━━━━━━━━━━━━━━━━━━━━━\\x1b[0m \\x1b[32m6.6/6.6 MB\\x1b[0m \\x1b[31m90.1 MB/s\\x1b[0m eta \\x1b[36m0:00:00\\x1b[0m',\n",
              " '\\x1b[?25hDownloading werkzeug-3.0.2-py3-none-any.whl (226 kB)',\n",
              " '\\x1b[?25l   \\x1b[90m━━━━━━━━━━━━━━━━━━━━━━━━━━━━━━━━━━━━━━━━\\x1b[0m \\x1b[32m0.0/226.8 kB\\x1b[0m \\x1b[31m?\\x1b[0m eta \\x1b[36m-:--:--\\x1b[0m',\n",
              " '\\x1b[2K   \\x1b[90m━━━━━━━━━━━━━━━━━━━━━━━━━━━━━━━━━━━━━━━━\\x1b[0m \\x1b[32m226.8/226.8 kB\\x1b[0m \\x1b[31m15.0 MB/s\\x1b[0m eta \\x1b[36m0:00:00\\x1b[0m',\n",
              " '\\x1b[?25hDownloading importlib_metadata-7.1.0-py3-none-any.whl (24 kB)',\n",
              " 'Downloading zipp-3.18.1-py3-none-any.whl (8.2 kB)',\n",
              " '\\x1b[33mDEPRECATION: omegaconf 2.0.6 has a non-standard dependency specifier PyYAML>=5.1.*. pip 24.0 will enforce this behaviour change. A possible replacement is to upgrade to a newer version of omegaconf or contact the author to suggest that they release a version with a conforming dependency specifiers. Discussion can be found at https://github.com/pypa/pip/issues/12063\\x1b[0m\\x1b[33m',\n",
              " '\\x1b[0mInstalling collected packages: zipp, werkzeug, tensorboard-data-server, grpcio, absl-py, importlib-metadata, markdown, tensorboard',\n",
              " 'Successfully installed absl-py-2.1.0 grpcio-1.63.0 importlib-metadata-7.1.0 markdown-3.6 tensorboard-2.16.2 tensorboard-data-server-0.7.2 werkzeug-3.0.2 zipp-3.18.1',\n",
              " \"\\x1b[33mWARNING: Running pip as the 'root' user can result in broken permissions and conflicting behaviour with the system package manager. It is recommended to use a virtual environment instead: https://pip.pypa.io/warnings/venv\\x1b[0m\\x1b[33m\",\n",
              " '\\x1b[0m']"
            ]
          },
          "metadata": {},
          "execution_count": 21
        }
      ]
    },
    {
      "cell_type": "code",
      "source": [],
      "metadata": {
        "id": "tgMifVyplzgd"
      },
      "execution_count": null,
      "outputs": []
    }
  ],
  "metadata": {
    "colab": {
      "provenance": [],
      "gpuType": "T4"
    },
    "kernelspec": {
      "display_name": "Python 3",
      "name": "python3"
    },
    "language_info": {
      "name": "python"
    },
    "accelerator": "GPU"
  },
  "nbformat": 4,
  "nbformat_minor": 0
}